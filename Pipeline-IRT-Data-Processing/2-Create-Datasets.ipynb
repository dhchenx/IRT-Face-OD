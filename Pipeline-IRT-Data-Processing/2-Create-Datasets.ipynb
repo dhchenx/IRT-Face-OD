{
 "cells": [
  {
   "cell_type": "code",
   "execution_count": 1,
   "metadata": {},
   "outputs": [
    {
     "name": "stdout",
     "output_type": "stream",
     "text": [
      "Collecting flyr\n",
      "  Downloading flyr-3.3.1.tar.gz (48 kB)\n",
      "     -------------------------------------- 48.0/48.0 KB 609.3 kB/s eta 0:00:00\n",
      "  Installing build dependencies: started\n",
      "  Installing build dependencies: finished with status 'done'\n",
      "  Getting requirements to build wheel: started\n",
      "  Getting requirements to build wheel: finished with status 'done'\n",
      "  Preparing metadata (pyproject.toml): started\n",
      "  Preparing metadata (pyproject.toml): finished with status 'done'\n",
      "Requirement already satisfied: pillow in d:\\python39\\lib\\site-packages (from flyr) (9.2.0)\n",
      "Requirement already satisfied: numpy in d:\\python39\\lib\\site-packages (from flyr) (1.23.3)\n",
      "Collecting nptyping==0.3.1\n",
      "  Downloading nptyping-0.3.1-py3-none-any.whl (3.8 kB)\n",
      "Collecting typish\n",
      "  Downloading typish-1.9.3-py3-none-any.whl (45 kB)\n",
      "     ---------------------------------------- 45.1/45.1 KB 2.2 MB/s eta 0:00:00\n",
      "Building wheels for collected packages: flyr\n",
      "  Building wheel for flyr (pyproject.toml): started\n",
      "  Building wheel for flyr (pyproject.toml): finished with status 'done'\n",
      "  Created wheel for flyr: filename=flyr-3.3.1-py3-none-any.whl size=46800 sha256=f7d4893ba7dfb21763680defbf1d0d3ceccdbdbf7a4f434f29d955898e89e895\n",
      "  Stored in directory: c:\\users\\dougl\\appdata\\local\\pip\\cache\\wheels\\b8\\10\\c8\\8ee577fcbbf59ea055fc0654e31ca5ec0a6da5851326b000ee\n",
      "Successfully built flyr\n",
      "Installing collected packages: typish, nptyping, flyr\n",
      "Successfully installed flyr-3.3.1 nptyping-0.3.1 typish-1.9.3\n",
      "Note: you may need to restart the kernel to use updated packages.\n"
     ]
    },
    {
     "name": "stderr",
     "output_type": "stream",
     "text": [
      "WARNING: You are using pip version 22.0.4; however, version 23.1.2 is available.\n",
      "You should consider upgrading via the 'd:\\Python39\\python.exe -m pip install --upgrade pip' command.\n"
     ]
    },
    {
     "name": "stdout",
     "output_type": "stream",
     "text": [
      "Requirement already satisfied: seaborn in d:\\python39\\lib\\site-packages (0.12.0)Note: you may need to restart the kernel to use updated packages.\n",
      "\n",
      "Requirement already satisfied: pandas>=0.25 in d:\\python39\\lib\\site-packages (from seaborn) (1.5.0)\n",
      "Requirement already satisfied: matplotlib>=3.1 in d:\\python39\\lib\\site-packages (from seaborn) (3.6.0)\n",
      "Requirement already satisfied: numpy>=1.17 in d:\\python39\\lib\\site-packages (from seaborn) (1.23.3)\n",
      "Requirement already satisfied: fonttools>=4.22.0 in d:\\python39\\lib\\site-packages (from matplotlib>=3.1->seaborn) (4.37.3)\n",
      "Requirement already satisfied: contourpy>=1.0.1 in d:\\python39\\lib\\site-packages (from matplotlib>=3.1->seaborn) (1.0.5)\n",
      "Requirement already satisfied: python-dateutil>=2.7 in d:\\python39\\lib\\site-packages (from matplotlib>=3.1->seaborn) (2.8.2)\n",
      "Requirement already satisfied: kiwisolver>=1.0.1 in d:\\python39\\lib\\site-packages (from matplotlib>=3.1->seaborn) (1.4.4)\n",
      "Requirement already satisfied: cycler>=0.10 in d:\\python39\\lib\\site-packages (from matplotlib>=3.1->seaborn) (0.11.0)\n",
      "Requirement already satisfied: pillow>=6.2.0 in d:\\python39\\lib\\site-packages (from matplotlib>=3.1->seaborn) (9.2.0)\n",
      "Requirement already satisfied: pyparsing>=2.2.1 in d:\\python39\\lib\\site-packages (from matplotlib>=3.1->seaborn) (3.0.9)\n",
      "Requirement already satisfied: packaging>=20.0 in d:\\python39\\lib\\site-packages (from matplotlib>=3.1->seaborn) (21.3)\n",
      "Requirement already satisfied: pytz>=2020.1 in d:\\python39\\lib\\site-packages (from pandas>=0.25->seaborn) (2022.2.1)\n",
      "Requirement already satisfied: six>=1.5 in d:\\python39\\lib\\site-packages (from python-dateutil>=2.7->matplotlib>=3.1->seaborn) (1.16.0)\n"
     ]
    },
    {
     "name": "stderr",
     "output_type": "stream",
     "text": [
      "WARNING: You are using pip version 22.0.4; however, version 23.1.2 is available.\n",
      "You should consider upgrading via the 'd:\\Python39\\python.exe -m pip install --upgrade pip' command.\n"
     ]
    }
   ],
   "source": [
    "%pip install flyr\n",
    "%pip install seaborn"
   ]
  },
  {
   "cell_type": "code",
   "execution_count": 10,
   "metadata": {},
   "outputs": [
    {
     "ename": "ValueError",
     "evalue": "Invalid FLIR: no metadata encountered",
     "output_type": "error",
     "traceback": [
      "\u001b[1;31m---------------------------------------------------------------------------\u001b[0m",
      "\u001b[1;31mValueError\u001b[0m                                Traceback (most recent call last)",
      "\u001b[1;32mf:\\UIBE科研\\红外成像\\InfraData\\2-Create-Datasets.ipynb 单元格 2\u001b[0m in \u001b[0;36m5\n\u001b[0;32m      <a href='vscode-notebook-cell:/f%3A/UIBE%E7%A7%91%E7%A0%94/%E7%BA%A2%E5%A4%96%E6%88%90%E5%83%8F/InfraData/2-Create-Datasets.ipynb#W2sZmlsZQ%3D%3D?line=1'>2</a>\u001b[0m \u001b[39mimport\u001b[39;00m \u001b[39mflyr\u001b[39;00m\n\u001b[0;32m      <a href='vscode-notebook-cell:/f%3A/UIBE%E7%A7%91%E7%A0%94/%E7%BA%A2%E5%A4%96%E6%88%90%E5%83%8F/InfraData/2-Create-Datasets.ipynb#W2sZmlsZQ%3D%3D?line=2'>3</a>\u001b[0m root_path\u001b[39m=\u001b[39m\u001b[39mr\u001b[39m\u001b[39m'\u001b[39m\u001b[39m../数据库/Thermal Image of Faces for Temperature Detection/\u001b[39m\u001b[39m{num}\u001b[39;00m\u001b[39m-20220708T112636Z-001/\u001b[39m\u001b[39m{num}\u001b[39;00m\u001b[39m'\u001b[39m\n\u001b[1;32m----> <a href='vscode-notebook-cell:/f%3A/UIBE%E7%A7%91%E7%A0%94/%E7%BA%A2%E5%A4%96%E6%88%90%E5%83%8F/InfraData/2-Create-Datasets.ipynb#W2sZmlsZQ%3D%3D?line=4'>5</a>\u001b[0m thermogram \u001b[39m=\u001b[39m flyr\u001b[39m.\u001b[39;49munpack(root_path\u001b[39m.\u001b[39;49mreplace(\u001b[39m\"\u001b[39;49m\u001b[39m{num}\u001b[39;49;00m\u001b[39m\"\u001b[39;49m,\u001b[39m\"\u001b[39;49m\u001b[39m1\u001b[39;49m\u001b[39m\"\u001b[39;49m)\u001b[39m+\u001b[39;49m\u001b[39m\"\u001b[39;49m\u001b[39m/\u001b[39;49m\u001b[39m\"\u001b[39;49m\u001b[39m+\u001b[39;49m\u001b[39m\"\u001b[39;49m\u001b[39mFLIR_20220309_035116.jpg\u001b[39;49m\u001b[39m\"\u001b[39;49m)\n\u001b[0;32m      <a href='vscode-notebook-cell:/f%3A/UIBE%E7%A7%91%E7%A0%94/%E7%BA%A2%E5%A4%96%E6%88%90%E5%83%8F/InfraData/2-Create-Datasets.ipynb#W2sZmlsZQ%3D%3D?line=5'>6</a>\u001b[0m \u001b[39m# thermal = thermogram.kelvin  # As kelvin\u001b[39;00m\n\u001b[0;32m      <a href='vscode-notebook-cell:/f%3A/UIBE%E7%A7%91%E7%A0%94/%E7%BA%A2%E5%A4%96%E6%88%90%E5%83%8F/InfraData/2-Create-Datasets.ipynb#W2sZmlsZQ%3D%3D?line=6'>7</a>\u001b[0m thermal \u001b[39m=\u001b[39m thermogram\u001b[39m.\u001b[39mcelsius  \u001b[39m# As celsius\u001b[39;00m\n",
      "File \u001b[1;32md:\\Python39\\lib\\site-packages\\flyr\\flyr.py:73\u001b[0m, in \u001b[0;36munpack\u001b[1;34m(path_or_stream)\u001b[0m\n\u001b[0;32m     71\u001b[0m \u001b[39mif\u001b[39;00m \u001b[39misinstance\u001b[39m(path_or_stream, \u001b[39mstr\u001b[39m) \u001b[39mand\u001b[39;00m os\u001b[39m.\u001b[39mpath\u001b[39m.\u001b[39misfile(path_or_stream):\n\u001b[0;32m     72\u001b[0m     \u001b[39mwith\u001b[39;00m \u001b[39mopen\u001b[39m(path_or_stream, \u001b[39m\"\u001b[39m\u001b[39mrb\u001b[39m\u001b[39m\"\u001b[39m) \u001b[39mas\u001b[39;00m flirh:\n\u001b[1;32m---> 73\u001b[0m         thermogram \u001b[39m=\u001b[39m unpack(flirh)\n\u001b[0;32m     74\u001b[0m     thermogram\u001b[39m.\u001b[39mpath \u001b[39m=\u001b[39m path_or_stream\n\u001b[0;32m     75\u001b[0m     \u001b[39mreturn\u001b[39;00m thermogram\n",
      "File \u001b[1;32md:\\Python39\\lib\\site-packages\\flyr\\flyr.py:78\u001b[0m, in \u001b[0;36munpack\u001b[1;34m(path_or_stream)\u001b[0m\n\u001b[0;32m     76\u001b[0m \u001b[39melif\u001b[39;00m \u001b[39misinstance\u001b[39m(path_or_stream, BufferedIOBase):\n\u001b[0;32m     77\u001b[0m     stream \u001b[39m=\u001b[39m path_or_stream\n\u001b[1;32m---> 78\u001b[0m     flir_app1_stream \u001b[39m=\u001b[39m extract_flir_app1(stream)\n\u001b[0;32m     79\u001b[0m     flir_records \u001b[39m=\u001b[39m parse_flir_app1(flir_app1_stream)\n\u001b[0;32m     80\u001b[0m     stream\u001b[39m.\u001b[39mseek(\u001b[39m0\u001b[39m)\n",
      "File \u001b[1;32md:\\Python39\\lib\\site-packages\\flyr\\flyr.py:142\u001b[0m, in \u001b[0;36mextract_flir_app1\u001b[1;34m(stream)\u001b[0m\n\u001b[0;32m    139\u001b[0m         \u001b[39mbreak\u001b[39;00m\n\u001b[0;32m    141\u001b[0m \u001b[39mif\u001b[39;00m chunks_count \u001b[39mis\u001b[39;00m \u001b[39mNone\u001b[39;00m:\n\u001b[1;32m--> 142\u001b[0m     \u001b[39mraise\u001b[39;00m \u001b[39mValueError\u001b[39;00m(\u001b[39m\"\u001b[39m\u001b[39mInvalid FLIR: no metadata encountered\u001b[39m\u001b[39m\"\u001b[39m)\n\u001b[0;32m    144\u001b[0m flir_app1_bytes \u001b[39m=\u001b[39m \u001b[39mb\u001b[39m\u001b[39m\"\u001b[39m\u001b[39m\"\u001b[39m\n\u001b[0;32m    145\u001b[0m \u001b[39mfor\u001b[39;00m chunk_num \u001b[39min\u001b[39;00m \u001b[39mrange\u001b[39m(chunks_count \u001b[39m+\u001b[39m \u001b[39m1\u001b[39m):\n",
      "\u001b[1;31mValueError\u001b[0m: Invalid FLIR: no metadata encountered"
     ]
    }
   ],
   "source": [
    "# Test\n",
    "import flyr\n",
    "root_path=r'../数据库/Thermal Image of Faces for Temperature Detection/{num}-20220708T112636Z-001/{num}'\n",
    "\n",
    "thermogram = flyr.unpack(root_path.replace(\"{num}\",\"1\")+\"/\"+\"FLIR_20220309_035116.jpg\")\n",
    "# thermal = thermogram.kelvin  # As kelvin\n",
    "thermal = thermogram.celsius  # As celsius\n",
    "print(thermal)\n"
   ]
  },
  {
   "cell_type": "code",
   "execution_count": 3,
   "metadata": {},
   "outputs": [
    {
     "name": "stderr",
     "output_type": "stream",
     "text": [
      "  0%|          | 0/1 [00:00<?, ?it/s]"
     ]
    },
    {
     "name": "stdout",
     "output_type": "stream",
     "text": [
      "Category 3:\n"
     ]
    },
    {
     "name": "stderr",
     "output_type": "stream",
     "text": []
    },
    {
     "name": "stdout",
     "output_type": "stream",
     "text": [
      "Invalid FLIR: no metadata encountered\n",
      "../数据库/Thermal Image of Faces for Temperature Detection/3-20220708T112727Z-001/3/FLIR_20220309_03510623.jpg\n"
     ]
    },
    {
     "name": "stderr",
     "output_type": "stream",
     "text": []
    },
    {
     "name": "stdout",
     "output_type": "stream",
     "text": [
      "Invalid FLIR: no metadata encountered\n",
      "../数据库/Thermal Image of Faces for Temperature Detection/3-20220708T112727Z-001/3/FLIR_20220323_01410923.jpg\n"
     ]
    },
    {
     "name": "stderr",
     "output_type": "stream",
     "text": []
    },
    {
     "name": "stdout",
     "output_type": "stream",
     "text": [
      "Invalid FLIR: no metadata encountered\n",
      "../数据库/Thermal Image of Faces for Temperature Detection/3-20220708T112727Z-001/3/FLIR_20220323_01411523.jpg\n"
     ]
    },
    {
     "name": "stderr",
     "output_type": "stream",
     "text": []
    },
    {
     "name": "stdout",
     "output_type": "stream",
     "text": [
      "Invalid FLIR: no metadata encountered\n",
      "../数据库/Thermal Image of Faces for Temperature Detection/3-20220708T112727Z-001/3/FLIR_20220323_01461123.jpg\n"
     ]
    },
    {
     "name": "stderr",
     "output_type": "stream",
     "text": []
    },
    {
     "name": "stdout",
     "output_type": "stream",
     "text": [
      "Invalid FLIR: no metadata encountered\n",
      "../数据库/Thermal Image of Faces for Temperature Detection/3-20220708T112727Z-001/3/FLIR_20220323_01461223.jpg\n"
     ]
    },
    {
     "name": "stderr",
     "output_type": "stream",
     "text": []
    },
    {
     "name": "stdout",
     "output_type": "stream",
     "text": [
      "Invalid FLIR: no metadata encountered\n",
      "../数据库/Thermal Image of Faces for Temperature Detection/3-20220708T112727Z-001/3/FLIR_20220323_01513823.jpg\n"
     ]
    },
    {
     "name": "stderr",
     "output_type": "stream",
     "text": []
    },
    {
     "name": "stdout",
     "output_type": "stream",
     "text": [
      "Invalid FLIR: no metadata encountered\n",
      "../数据库/Thermal Image of Faces for Temperature Detection/3-20220708T112727Z-001/3/FLIR_20220324_01070223.jpg\n"
     ]
    },
    {
     "name": "stderr",
     "output_type": "stream",
     "text": []
    },
    {
     "name": "stdout",
     "output_type": "stream",
     "text": [
      "Invalid FLIR: no metadata encountered\n",
      "../数据库/Thermal Image of Faces for Temperature Detection/3-20220708T112727Z-001/3/FLIR_20220324_01070423.jpg\n"
     ]
    },
    {
     "name": "stderr",
     "output_type": "stream",
     "text": []
    },
    {
     "name": "stdout",
     "output_type": "stream",
     "text": [
      "Invalid FLIR: no metadata encountered\n",
      "../数据库/Thermal Image of Faces for Temperature Detection/3-20220708T112727Z-001/3/FLIR_20220324_011604.jpg\n"
     ]
    },
    {
     "name": "stderr",
     "output_type": "stream",
     "text": []
    },
    {
     "name": "stdout",
     "output_type": "stream",
     "text": [
      "Invalid FLIR: no metadata encountered\n",
      "../数据库/Thermal Image of Faces for Temperature Detection/3-20220708T112727Z-001/3/FLIR_20220330_0659271.jpg\n"
     ]
    },
    {
     "name": "stderr",
     "output_type": "stream",
     "text": []
    },
    {
     "name": "stdout",
     "output_type": "stream",
     "text": [
      "Invalid FLIR: no metadata encountered\n",
      "../数据库/Thermal Image of Faces for Temperature Detection/3-20220708T112727Z-001/3/FLIR_20220330_0700001.jpg\n"
     ]
    },
    {
     "name": "stderr",
     "output_type": "stream",
     "text": []
    },
    {
     "name": "stdout",
     "output_type": "stream",
     "text": [
      "Invalid FLIR: no metadata encountered\n",
      "../数据库/Thermal Image of Faces for Temperature Detection/3-20220708T112727Z-001/3/FLIR_20220330_0700041.jpg\n"
     ]
    },
    {
     "name": "stderr",
     "output_type": "stream",
     "text": []
    },
    {
     "name": "stdout",
     "output_type": "stream",
     "text": [
      "Invalid FLIR: no metadata encountered\n",
      "../数据库/Thermal Image of Faces for Temperature Detection/3-20220708T112727Z-001/3/FLIR_20220330_0700051.jpg\n",
      "Invalid FLIR: no metadata encountered\n",
      "../数据库/Thermal Image of Faces for Temperature Detection/3-20220708T112727Z-001/3/FLIR_20220330_0700331.jpg\n"
     ]
    },
    {
     "name": "stderr",
     "output_type": "stream",
     "text": []
    },
    {
     "name": "stdout",
     "output_type": "stream",
     "text": [
      "Invalid FLIR: no metadata encountered\n",
      "../数据库/Thermal Image of Faces for Temperature Detection/3-20220708T112727Z-001/3/FLIR_20220330_0700351.jpg\n",
      "Invalid FLIR: no metadata encountered\n",
      "../数据库/Thermal Image of Faces for Temperature Detection/3-20220708T112727Z-001/3/FLIR_20220330_0700361.jpg\n"
     ]
    },
    {
     "name": "stderr",
     "output_type": "stream",
     "text": []
    },
    {
     "name": "stdout",
     "output_type": "stream",
     "text": [
      "Invalid FLIR: no metadata encountered\n",
      "../数据库/Thermal Image of Faces for Temperature Detection/3-20220708T112727Z-001/3/FLIR_20220330_0700371.jpg\n"
     ]
    },
    {
     "name": "stderr",
     "output_type": "stream",
     "text": []
    },
    {
     "name": "stdout",
     "output_type": "stream",
     "text": [
      "Invalid FLIR: no metadata encountered\n",
      "../数据库/Thermal Image of Faces for Temperature Detection/3-20220708T112727Z-001/3/FLIR_20220330_0705021.jpg\n"
     ]
    },
    {
     "name": "stderr",
     "output_type": "stream",
     "text": []
    },
    {
     "name": "stdout",
     "output_type": "stream",
     "text": [
      "Invalid FLIR: no metadata encountered\n",
      "../数据库/Thermal Image of Faces for Temperature Detection/3-20220708T112727Z-001/3/FLIR_20220330_0705031.jpg\n"
     ]
    },
    {
     "name": "stderr",
     "output_type": "stream",
     "text": []
    },
    {
     "name": "stdout",
     "output_type": "stream",
     "text": [
      "Invalid FLIR: no metadata encountered\n",
      "../数据库/Thermal Image of Faces for Temperature Detection/3-20220708T112727Z-001/3/FLIR_20220330_0705041.jpg\n"
     ]
    },
    {
     "name": "stderr",
     "output_type": "stream",
     "text": [
      "100%|██████████| 46/46 [01:19<00:00,  1.73s/it]\n",
      "100%|██████████| 1/1 [01:19<00:00, 79.42s/it]\n"
     ]
    },
    {
     "name": "stdout",
     "output_type": "stream",
     "text": [
      "Invalid FLIR: no metadata encountered\n",
      "../数据库/Thermal Image of Faces for Temperature Detection/3-20220708T112727Z-001/3/FLIR_20220330_0705051.jpg\n",
      "Invalid FLIR: no metadata encountered\n",
      "../数据库/Thermal Image of Faces for Temperature Detection/3-20220708T112727Z-001/3/FLIR_20220330_070516 (1)1.jpg\n",
      "\n"
     ]
    },
    {
     "data": {
      "image/png": "[encoded data removed]",
      "text/plain": [
       "<Figure size 300x400 with 1 Axes>"
      ]
     },
     "metadata": {},
     "output_type": "display_data"
    }
   ],
   "source": [
    "import os\n",
    "import flyr\n",
    "import shutil\n",
    "import seaborn as sns\n",
    "import matplotlib.pyplot as plt\n",
    "from tqdm import tqdm\n",
    "\n",
    "root_path=r'../数据库/Thermal Image of Faces for Temperature Detection/{num}-20220708T112727Z-001/{num}'\n",
    "\n",
    "category=[3]\n",
    "\n",
    "# show heatmap of temperature information \n",
    "def read_infrared_data(file):\n",
    "  lines = open(file, \"r\", encoding='utf-8')\n",
    "  data = []\n",
    "  for line in lines:\n",
    "    vs = line.strip().split(\",\")\n",
    "    row = [float(v) for v in vs]\n",
    "    data.append(row)\n",
    "  return data\n",
    "\n",
    "# dataset root\n",
    "save_root_path='datasets/flir_data'\n",
    "\n",
    "for c in tqdm(category):\n",
    "    print(f\"Category {c}:\")\n",
    "    root_path_temp=root_path.replace('{num}',str(c))\n",
    "    \n",
    "    # print(root_path_temp)\n",
    "    folder=save_root_path+\"/\"+str(c)\n",
    "    if not os.path.exists(folder):\n",
    "       os.mkdir(folder)\n",
    "    folder_raw=folder+\"/raw\"\n",
    "    folder_optical=folder+\"/optical\"\n",
    "    folder_thermal=folder+\"/thermal\"\n",
    "    folder_csv=folder+\"/csv\"\n",
    "    if not os.path.exists(folder_raw):\n",
    "       os.mkdir(folder_raw)\n",
    "    if not os.path.exists(folder_csv):\n",
    "       os.mkdir(folder_csv)\n",
    "    if not os.path.exists(folder_optical):\n",
    "       os.mkdir(folder_optical)\n",
    "    if not os.path.exists(folder_thermal):\n",
    "       os.mkdir(folder_thermal)\n",
    "\n",
    "    for file in tqdm(os.listdir(root_path_temp)):\n",
    "        \n",
    "        name, ext = os.path.splitext(file)\n",
    "        # source file\n",
    "        flir_path=root_path_temp+\"/\"+file\n",
    "        if os.path.exists(folder_raw+\"/\"+name+\".jpg\"):\n",
    "         continue\n",
    "        try:\n",
    "          # read thermal data\n",
    "          thermogram = flyr.unpack(flir_path)\n",
    "          # thermal = thermogram.kelvin  # As kelvin\n",
    "          thermal = thermogram.celsius  # As celsius\n",
    "          # thermal = thermogram.fahrenheit  # As fahrenheit\n",
    "          # print(thermal)\n",
    "          # print(f'width:{len(thermal[0])},height:{len(thermal)}')\n",
    "          # csv file\n",
    "          f_out=open(folder_csv+\"/\"+name+\".csv\",'w',encoding='utf-8')\n",
    "          for m in thermal:\n",
    "              line=[]\n",
    "              for l in m:\n",
    "                  line.append(str(l))\n",
    "              f_out.write(','.join(line)+'\\n')\n",
    "          f_out.close()\n",
    "          # optical\n",
    "          optical_arr = thermogram.optical  # Also works\n",
    "          thermogram.optical_pil.save(folder_optical+\"/\"+name+\".jpg\")\n",
    "          # raw image\n",
    "          shutil.copy(flir_path,folder_raw+\"/\"+name+\".jpg\")\n",
    "          # thermal\n",
    "          temp_data=read_infrared_data(folder_csv+\"/\"+name+\".csv\")\n",
    "\n",
    "          sns.set(rc= {\"figure.figsize\": (3, 4)})\n",
    "\n",
    "          # print(len(temp_data),len(temp_data[0]))\n",
    "          ax = sns.heatmap(temp_data,\n",
    "                          xticklabels=False,  # remove the labels\n",
    "                          yticklabels=False,\n",
    "                          cbar=False,\n",
    "                          cmap='inferno'\n",
    "                          )\n",
    "\n",
    "          plt.tight_layout()\n",
    "\n",
    "          # plt.show()\n",
    "\n",
    "          plt.savefig(folder_thermal+\"/\"+name+\".jpg\", dpi=300, bbox_inches='tight', pad_inches=0)\n",
    "        except Exception as err:\n",
    "           print(err)\n",
    "           print(flir_path)\n",
    "    print()\n",
    "                \n",
    "        "
   ]
  }
 ],
 "metadata": {
  "kernelspec": {
   "display_name": "Python 3",
   "language": "python",
   "name": "python3"
  },
  "language_info": {
   "codemirror_mode": {
    "name": "ipython",
    "version": 3
   },
   "file_extension": ".py",
   "mimetype": "text/x-python",
   "name": "python",
   "nbconvert_exporter": "python",
   "pygments_lexer": "ipython3",
   "version": "3.9.13"
  },
  "orig_nbformat": 4
 },
 "nbformat": 4,
 "nbformat_minor": 2
}
