{
 "cells": [
  {
   "cell_type": "code",
   "execution_count": 2,
   "metadata": {},
   "outputs": [
    {
     "ename": "ValueError",
     "evalue": "Incorrect input",
     "output_type": "error",
     "traceback": [
      "\u001b[1;31m---------------------------------------------------------------------------\u001b[0m",
      "\u001b[1;31mValueError\u001b[0m                                Traceback (most recent call last)",
      "\u001b[1;32mf:\\UIBE科研\\红外成像\\InfraData\\9-Test-Thermal-Emotions.ipynb 单元格 1\u001b[0m in \u001b[0;36m1\n\u001b[0;32m     <a href='vscode-notebook-cell:/f%3A/UIBE%E7%A7%91%E7%A0%94/%E7%BA%A2%E5%A4%96%E6%88%90%E5%83%8F/InfraData/9-Test-Thermal-Emotions.ipynb#W1sZmlsZQ%3D%3D?line=10'>11</a>\u001b[0m image_path\u001b[39m=\u001b[39mos\u001b[39m.\u001b[39mpath\u001b[39m.\u001b[39mjoin(root_path,file_id)\n\u001b[0;32m     <a href='vscode-notebook-cell:/f%3A/UIBE%E7%A7%91%E7%A0%94/%E7%BA%A2%E5%A4%96%E6%88%90%E5%83%8F/InfraData/9-Test-Thermal-Emotions.ipynb#W1sZmlsZQ%3D%3D?line=12'>13</a>\u001b[0m \u001b[39m# extract temperature information\u001b[39;00m\n\u001b[1;32m---> <a href='vscode-notebook-cell:/f%3A/UIBE%E7%A7%91%E7%A0%94/%E7%BA%A2%E5%A4%96%E6%88%90%E5%83%8F/InfraData/9-Test-Thermal-Emotions.ipynb#W1sZmlsZQ%3D%3D?line=14'>15</a>\u001b[0m thermogram \u001b[39m=\u001b[39m flyr\u001b[39m.\u001b[39;49munpack(image_path)\n\u001b[0;32m     <a href='vscode-notebook-cell:/f%3A/UIBE%E7%A7%91%E7%A0%94/%E7%BA%A2%E5%A4%96%E6%88%90%E5%83%8F/InfraData/9-Test-Thermal-Emotions.ipynb#W1sZmlsZQ%3D%3D?line=15'>16</a>\u001b[0m \u001b[39m# thermal = thermogram.kelvin  # As kelvin\u001b[39;00m\n\u001b[0;32m     <a href='vscode-notebook-cell:/f%3A/UIBE%E7%A7%91%E7%A0%94/%E7%BA%A2%E5%A4%96%E6%88%90%E5%83%8F/InfraData/9-Test-Thermal-Emotions.ipynb#W1sZmlsZQ%3D%3D?line=16'>17</a>\u001b[0m thermal \u001b[39m=\u001b[39m thermogram\u001b[39m.\u001b[39mcelsius  \u001b[39m# As celsius\u001b[39;00m\n",
      "File \u001b[1;32md:\\Python39\\lib\\site-packages\\flyr\\flyr.py:85\u001b[0m, in \u001b[0;36munpack\u001b[1;34m(path_or_stream)\u001b[0m\n\u001b[0;32m     83\u001b[0m     \u001b[39mreturn\u001b[39;00m thermogram\n\u001b[0;32m     84\u001b[0m \u001b[39melse\u001b[39;00m:\n\u001b[1;32m---> 85\u001b[0m     \u001b[39mraise\u001b[39;00m \u001b[39mValueError\u001b[39;00m(\u001b[39m\"\u001b[39m\u001b[39mIncorrect input\u001b[39m\u001b[39m\"\u001b[39m)\n",
      "\u001b[1;31mValueError\u001b[0m: Incorrect input"
     ]
    }
   ],
   "source": [
    "# http://nvie.ustc.edu.cn/\n",
    "\n",
    "# Test a thermal face data\n",
    "import os\n",
    "import flyr\n",
    "\n",
    "root_path=r'F:\\UIBE科研\\红外成像\\数据库\\Charlotte-ThermalFace\\S1'\n",
    "\n",
    "file_id='N11105.jpg'\n",
    "\n",
    "image_path=os.path.join(root_path,file_id)\n",
    "\n",
    "# extract temperature information\n",
    "\n",
    "thermogram = flyr.unpack(image_path)\n",
    "# thermal = thermogram.kelvin  # As kelvin\n",
    "thermal = thermogram.celsius  # As celsius\n",
    "# thermal = thermogram.fahrenheit  # As fahrenheit\n",
    "# print(thermal)\n",
    "print(f'width:{len(thermal[0])},height:{len(thermal)}')\n",
    "f_out=open('results/thermal_image.csv','w',encoding='utf-8')\n",
    "for m in thermal:\n",
    "    line=[]\n",
    "    for l in m:\n",
    "        line.append(str(l))\n",
    "    f_out.write(','.join(line)+'\\n')\n",
    "f_out.close()\n"
   ]
  },
  {
   "cell_type": "code",
   "execution_count": 3,
   "metadata": {},
   "outputs": [
    {
     "name": "stdout",
     "output_type": "stream",
     "text": [
      "Requirement already satisfied: flirextractor in d:\\python39\\lib\\site-packages (1.0.2)\n",
      "Requirement already satisfied: pillow<=8.0.0,>=6.2 in d:\\python39\\lib\\site-packages (from flirextractor) (8.0.0)\n",
      "Requirement already satisfied: numpy<2.0,>=1.17 in d:\\python39\\lib\\site-packages (from flirextractor) (1.23.3)\n",
      "Requirement already satisfied: pyexiftool<0.2.0,>=0.1.1 in d:\\python39\\lib\\site-packages (from flirextractor) (0.1.1)\n",
      "Note: you may need to restart the kernel to use updated packages.\n"
     ]
    },
    {
     "name": "stderr",
     "output_type": "stream",
     "text": [
      "WARNING: Ignoring invalid distribution -rotobuf (d:\\python39\\lib\\site-packages)\n",
      "WARNING: Ignoring invalid distribution -illow (d:\\python39\\lib\\site-packages)\n",
      "WARNING: Ignoring invalid distribution -rotobuf (d:\\python39\\lib\\site-packages)\n",
      "WARNING: Ignoring invalid distribution -illow (d:\\python39\\lib\\site-packages)\n",
      "WARNING: Ignoring invalid distribution -rotobuf (d:\\python39\\lib\\site-packages)\n",
      "WARNING: Ignoring invalid distribution -illow (d:\\python39\\lib\\site-packages)\n",
      "WARNING: Ignoring invalid distribution -rotobuf (d:\\python39\\lib\\site-packages)\n",
      "WARNING: Ignoring invalid distribution -illow (d:\\python39\\lib\\site-packages)\n",
      "WARNING: Ignoring invalid distribution -rotobuf (d:\\python39\\lib\\site-packages)\n",
      "WARNING: Ignoring invalid distribution -illow (d:\\python39\\lib\\site-packages)\n",
      "WARNING: Ignoring invalid distribution -rotobuf (d:\\python39\\lib\\site-packages)\n",
      "WARNING: Ignoring invalid distribution -illow (d:\\python39\\lib\\site-packages)\n",
      "WARNING: You are using pip version 22.0.4; however, version 23.1.2 is available.\n",
      "You should consider upgrading via the 'd:\\Python39\\python.exe -m pip install --upgrade pip' command.\n"
     ]
    }
   ],
   "source": [
    "%pip install flirextractor"
   ]
  },
  {
   "cell_type": "code",
   "execution_count": 8,
   "metadata": {},
   "outputs": [
    {
     "ename": "OSError",
     "evalue": "[WinError 10038] 在一个非套接字上尝试了一个操作。",
     "output_type": "error",
     "traceback": [
      "\u001b[1;31m---------------------------------------------------------------------------\u001b[0m",
      "\u001b[1;31mOSError\u001b[0m                                   Traceback (most recent call last)",
      "\u001b[1;32mf:\\UIBE科研\\红外成像\\InfraData\\9-Test-Thermal-Emotions.ipynb 单元格 3\u001b[0m in \u001b[0;36m8\n\u001b[0;32m      <a href='vscode-notebook-cell:/f%3A/UIBE%E7%A7%91%E7%A0%94/%E7%BA%A2%E5%A4%96%E6%88%90%E5%83%8F/InfraData/9-Test-Thermal-Emotions.ipynb#W2sZmlsZQ%3D%3D?line=4'>5</a>\u001b[0m file_id\u001b[39m=\u001b[39m\u001b[39m'\u001b[39m\u001b[39mN11105.jpg\u001b[39m\u001b[39m'\u001b[39m\n\u001b[0;32m      <a href='vscode-notebook-cell:/f%3A/UIBE%E7%A7%91%E7%A0%94/%E7%BA%A2%E5%A4%96%E6%88%90%E5%83%8F/InfraData/9-Test-Thermal-Emotions.ipynb#W2sZmlsZQ%3D%3D?line=6'>7</a>\u001b[0m \u001b[39mwith\u001b[39;00m FlirExtractor(exiftoolpath\u001b[39m=\u001b[39m\u001b[39mr\u001b[39m\u001b[39m'\u001b[39m\u001b[39mF:\u001b[39m\u001b[39m\\\u001b[39m\u001b[39mUIBE科研\u001b[39m\u001b[39m\\\u001b[39m\u001b[39m红外成像\u001b[39m\u001b[39m\\\u001b[39m\u001b[39m数据库\u001b[39m\u001b[39m\\\u001b[39m\u001b[39mexiftool-12.62\u001b[39m\u001b[39m\\\u001b[39m\u001b[39mexiftool.exe\u001b[39m\u001b[39m'\u001b[39m) \u001b[39mas\u001b[39;00m extractor:\n\u001b[1;32m----> <a href='vscode-notebook-cell:/f%3A/UIBE%E7%A7%91%E7%A0%94/%E7%BA%A2%E5%A4%96%E6%88%90%E5%83%8F/InfraData/9-Test-Thermal-Emotions.ipynb#W2sZmlsZQ%3D%3D?line=7'>8</a>\u001b[0m     thermal_data \u001b[39m=\u001b[39m extractor\u001b[39m.\u001b[39;49mget_thermal(os\u001b[39m.\u001b[39;49mpath\u001b[39m.\u001b[39;49mjoin(root_path,file_id))\n\u001b[0;32m     <a href='vscode-notebook-cell:/f%3A/UIBE%E7%A7%91%E7%A0%94/%E7%BA%A2%E5%A4%96%E6%88%90%E5%83%8F/InfraData/9-Test-Thermal-Emotions.ipynb#W2sZmlsZQ%3D%3D?line=9'>10</a>\u001b[0m \u001b[39mimport\u001b[39;00m \u001b[39mnumpy\u001b[39;00m \u001b[39mas\u001b[39;00m \u001b[39mnp\u001b[39;00m\n\u001b[0;32m     <a href='vscode-notebook-cell:/f%3A/UIBE%E7%A7%91%E7%A0%94/%E7%BA%A2%E5%A4%96%E6%88%90%E5%83%8F/InfraData/9-Test-Thermal-Emotions.ipynb#W2sZmlsZQ%3D%3D?line=10'>11</a>\u001b[0m np\u001b[39m.\u001b[39msavetxt(\u001b[39m\"\u001b[39m\u001b[39mdatasets/test_data/flir_data_test.txt\u001b[39m\u001b[39m\"\u001b[39m, thermal_data, delimiter\u001b[39m=\u001b[39m\u001b[39m\"\u001b[39m\u001b[39m,\u001b[39m\u001b[39m\"\u001b[39m)\n",
      "File \u001b[1;32md:\\Python39\\lib\\site-packages\\flirextractor\\flirextractor.py:84\u001b[0m, in \u001b[0;36mFlirExtractor.get_thermal\u001b[1;34m(self, filepath)\u001b[0m\n\u001b[0;32m     75\u001b[0m \u001b[39mdef\u001b[39;00m \u001b[39mget_thermal\u001b[39m(\u001b[39mself\u001b[39m, filepath: Path) \u001b[39m-\u001b[39m\u001b[39m>\u001b[39m \u001b[39m\"\u001b[39m\u001b[39mnp.ndarray\u001b[39m\u001b[39m\"\u001b[39m:\n\u001b[0;32m     76\u001b[0m     \u001b[39m\"\"\"Gets a thermal image from a FLIR file.\u001b[39;00m\n\u001b[0;32m     77\u001b[0m \n\u001b[0;32m     78\u001b[0m \u001b[39m    Parameters:\u001b[39;00m\n\u001b[1;32m   (...)\u001b[0m\n\u001b[0;32m     82\u001b[0m \u001b[39m        The thermal data in Celcius as a 2-D numpy array.\u001b[39;00m\n\u001b[0;32m     83\u001b[0m \u001b[39m    \"\"\"\u001b[39;00m\n\u001b[1;32m---> 84\u001b[0m     \u001b[39mreturn\u001b[39;00m get_thermal(\u001b[39mself\u001b[39;49m\u001b[39m.\u001b[39;49mexiftool, filepath)\n",
      "File \u001b[1;32md:\\Python39\\lib\\site-packages\\flirextractor\\get_thermal.py:81\u001b[0m, in \u001b[0;36mget_thermal\u001b[1;34m(exiftool, filepath)\u001b[0m\n\u001b[0;32m     79\u001b[0m filepaths \u001b[39m=\u001b[39m (filepath,)\n\u001b[0;32m     80\u001b[0m \u001b[39m# get first result from get_thermal_batch\u001b[39;00m\n\u001b[1;32m---> 81\u001b[0m \u001b[39mreturn\u001b[39;00m \u001b[39mnext\u001b[39m(\u001b[39miter\u001b[39m(get_thermal_batch(exiftool, filepaths)))\n",
      "File \u001b[1;32md:\\Python39\\lib\\site-packages\\flirextractor\\get_thermal.py:188\u001b[0m, in \u001b[0;36mget_thermal_batch\u001b[1;34m(exiftool, filepaths)\u001b[0m\n\u001b[0;32m    178\u001b[0m \u001b[39m\"\"\"Loads the thermal images from multiple FLIR images.\u001b[39;00m\n\u001b[0;32m    179\u001b[0m \n\u001b[0;32m    180\u001b[0m \u001b[39mParameters:\u001b[39;00m\n\u001b[1;32m   (...)\u001b[0m\n\u001b[0;32m    185\u001b[0m \u001b[39m    A list of thermal data in Celcius as 2-D numpy arrays.\u001b[39;00m\n\u001b[0;32m    186\u001b[0m \u001b[39m\"\"\"\u001b[39;00m\n\u001b[0;32m    187\u001b[0m str_paths \u001b[39m=\u001b[39m [get_str_filepath(filepath) \u001b[39mfor\u001b[39;00m filepath \u001b[39min\u001b[39;00m filepaths]\n\u001b[1;32m--> 188\u001b[0m metadata \u001b[39m=\u001b[39m exiftool\u001b[39m.\u001b[39;49mget_tags_batch(exif_var_tags\u001b[39m.\u001b[39;49mvalues(), str_paths)\n\u001b[0;32m    189\u001b[0m raw_images \u001b[39m=\u001b[39m [_get_raw_np(exiftool, filepath) \u001b[39mfor\u001b[39;00m filepath \u001b[39min\u001b[39;00m str_paths]\n\u001b[0;32m    190\u001b[0m \u001b[39mreturn\u001b[39;00m [\n\u001b[0;32m    191\u001b[0m     convert_image(image_metadata, raw_image)\n\u001b[0;32m    192\u001b[0m     \u001b[39mfor\u001b[39;00m image_metadata, raw_image \u001b[39min\u001b[39;00m \u001b[39mzip\u001b[39m(metadata, raw_images)\n\u001b[0;32m    193\u001b[0m ]\n",
      "File \u001b[1;32md:\\Python39\\lib\\site-packages\\exiftool.py:295\u001b[0m, in \u001b[0;36mExifTool.get_tags_batch\u001b[1;34m(self, tags, filenames)\u001b[0m\n\u001b[0;32m    293\u001b[0m params \u001b[39m=\u001b[39m [\u001b[39m\"\u001b[39m\u001b[39m-\u001b[39m\u001b[39m\"\u001b[39m \u001b[39m+\u001b[39m t \u001b[39mfor\u001b[39;00m t \u001b[39min\u001b[39;00m tags]\n\u001b[0;32m    294\u001b[0m params\u001b[39m.\u001b[39mextend(filenames)\n\u001b[1;32m--> 295\u001b[0m \u001b[39mreturn\u001b[39;00m \u001b[39mself\u001b[39;49m\u001b[39m.\u001b[39;49mexecute_json(\u001b[39m*\u001b[39;49mparams)\n",
      "File \u001b[1;32md:\\Python39\\lib\\site-packages\\exiftool.py:256\u001b[0m, in \u001b[0;36mExifTool.execute_json\u001b[1;34m(self, *params)\u001b[0m\n\u001b[0;32m    234\u001b[0m \u001b[39m\"\"\"Execute the given batch of parameters and parse the JSON output.\u001b[39;00m\n\u001b[0;32m    235\u001b[0m \n\u001b[0;32m    236\u001b[0m \u001b[39mThis method is similar to :py:meth:`execute()`.  It\u001b[39;00m\n\u001b[1;32m   (...)\u001b[0m\n\u001b[0;32m    253\u001b[0m \u001b[39mas Unicode strings in Python 3.x.\u001b[39;00m\n\u001b[0;32m    254\u001b[0m \u001b[39m\"\"\"\u001b[39;00m\n\u001b[0;32m    255\u001b[0m params \u001b[39m=\u001b[39m \u001b[39mmap\u001b[39m(fsencode, params)\n\u001b[1;32m--> 256\u001b[0m \u001b[39mreturn\u001b[39;00m json\u001b[39m.\u001b[39mloads(\u001b[39mself\u001b[39;49m\u001b[39m.\u001b[39;49mexecute(\u001b[39mb\u001b[39;49m\u001b[39m\"\u001b[39;49m\u001b[39m-j\u001b[39;49m\u001b[39m\"\u001b[39;49m, \u001b[39m*\u001b[39;49mparams)\u001b[39m.\u001b[39mdecode(\u001b[39m\"\u001b[39m\u001b[39mutf-8\u001b[39m\u001b[39m\"\u001b[39m))\n",
      "File \u001b[1;32md:\\Python39\\lib\\site-packages\\exiftool.py:227\u001b[0m, in \u001b[0;36mExifTool.execute\u001b[1;34m(self, *params)\u001b[0m\n\u001b[0;32m    225\u001b[0m fd \u001b[39m=\u001b[39m \u001b[39mself\u001b[39m\u001b[39m.\u001b[39m_process\u001b[39m.\u001b[39mstdout\u001b[39m.\u001b[39mfileno()\n\u001b[0;32m    226\u001b[0m \u001b[39mwhile\u001b[39;00m \u001b[39mnot\u001b[39;00m output[\u001b[39m-\u001b[39m\u001b[39m32\u001b[39m:]\u001b[39m.\u001b[39mstrip()\u001b[39m.\u001b[39mendswith(sentinel):\n\u001b[1;32m--> 227\u001b[0m     inputready,outputready,exceptready \u001b[39m=\u001b[39m select\u001b[39m.\u001b[39;49mselect([fd],[],[])\n\u001b[0;32m    228\u001b[0m     \u001b[39mfor\u001b[39;00m i \u001b[39min\u001b[39;00m inputready:\n\u001b[0;32m    229\u001b[0m         \u001b[39mif\u001b[39;00m i \u001b[39m==\u001b[39m fd:\n",
      "\u001b[1;31mOSError\u001b[0m: [WinError 10038] 在一个非套接字上尝试了一个操作。"
     ]
    }
   ],
   "source": [
    "\n",
    "\n",
    "from flirextractor import FlirExtractor\n",
    "\n",
    "root_path=r'../Charlotte-ThermalFace-Full/Charlotte-ThermalFace/S1'\n",
    "\n",
    "file_id='N11105.jpg'\n",
    "\n",
    "with FlirExtractor(exiftoolpath=r'F:\\UIBE科研\\红外成像\\数据库\\exiftool-12.62\\exiftool.exe') as extractor:\n",
    "    thermal_data = extractor.get_thermal(os.path.join(root_path,file_id))\n",
    "\n",
    "import numpy as np\n",
    "np.savetxt(\"datasets/test_data/flir_data_test.txt\", thermal_data, delimiter=\",\")\n",
    "\n"
   ]
  }
 ],
 "metadata": {
  "kernelspec": {
   "display_name": "Python 3",
   "language": "python",
   "name": "python3"
  },
  "language_info": {
   "codemirror_mode": {
    "name": "ipython",
    "version": 3
   },
   "file_extension": ".py",
   "mimetype": "text/x-python",
   "name": "python",
   "nbconvert_exporter": "python",
   "pygments_lexer": "ipython3",
   "version": "3.9.13"
  },
  "orig_nbformat": 4
 },
 "nbformat": 4,
 "nbformat_minor": 2
}
